{
 "cells": [
  {
   "cell_type": "code",
   "execution_count": 1,
   "id": "e04a7688-ae57-4f59-ad7a-2bc972fed9f9",
   "metadata": {},
   "outputs": [
    {
     "name": "stderr",
     "output_type": "stream",
     "text": [
      "Setting default log level to \"WARN\".\n",
      "To adjust logging level use sc.setLogLevel(newLevel). For SparkR, use setLogLevel(newLevel).\n",
      "23/11/09 21:36:05 INFO SparkEnv: Registering MapOutputTracker\n",
      "23/11/09 21:36:05 INFO SparkEnv: Registering BlockManagerMaster\n",
      "23/11/09 21:36:05 INFO SparkEnv: Registering BlockManagerMasterHeartbeat\n",
      "23/11/09 21:36:05 INFO SparkEnv: Registering OutputCommitCoordinator\n"
     ]
    }
   ],
   "source": [
    "# Starting sparksession\n",
    "from pyspark.sql import SparkSession\n",
    "spark = SparkSession.builder.appName(\"spark-housing\").getOrCreate()"
   ]
  },
  {
   "cell_type": "code",
   "execution_count": 2,
   "id": "b089ab7c-940d-4984-a2ad-d6543a4a2ce1",
   "metadata": {},
   "outputs": [
    {
     "name": "stderr",
     "output_type": "stream",
     "text": [
      "                                                                                \r"
     ]
    }
   ],
   "source": [
    "#Loading the data:\n",
    "\n",
    "path = 'gs://hive-output/california_housing_train.csv'\n",
    "file_type = \"csv\"\n",
    "\n",
    "#CSV\n",
    "infer_schema = 'true'\n",
    "first_row_is_header = 'true'\n",
    "delimiter = ','\n",
    "\n",
    "\n",
    "#Import csv\n",
    "\n",
    "df = spark.read.format(file_type)\\\n",
    "    .option(\"inferSchema\",infer_schema)\\\n",
    "    .option(\"header\", first_row_is_header) \\\n",
    "    .option(\"sep\", delimiter)\\\n",
    "    .load(path)"
   ]
  },
  {
   "cell_type": "code",
   "execution_count": 4,
   "id": "8f62d265-2933-44a4-a58e-b7d4f6bc5487",
   "metadata": {},
   "outputs": [
    {
     "name": "stderr",
     "output_type": "stream",
     "text": [
      "[Stage 2:>                                                          (0 + 1) / 1]\r"
     ]
    },
    {
     "name": "stdout",
     "output_type": "stream",
     "text": [
      "Total number of rows: 17000\n"
     ]
    },
    {
     "name": "stderr",
     "output_type": "stream",
     "text": [
      "                                                                                \r"
     ]
    }
   ],
   "source": [
    "total_rows = df.count()\n",
    "print(\"Total number of rows:\", total_rows)"
   ]
  },
  {
   "cell_type": "code",
   "execution_count": 5,
   "id": "1bb0e818-c512-4a08-b20a-81ce7d6d955a",
   "metadata": {},
   "outputs": [
    {
     "name": "stdout",
     "output_type": "stream",
     "text": [
      "root\n",
      " |-- longitude: double (nullable = true)\n",
      " |-- latitude: double (nullable = true)\n",
      " |-- housing_median_age: double (nullable = true)\n",
      " |-- total_rooms: double (nullable = true)\n",
      " |-- total_bedrooms: double (nullable = true)\n",
      " |-- population: double (nullable = true)\n",
      " |-- households: double (nullable = true)\n",
      " |-- median_income: double (nullable = true)\n",
      " |-- median_house_value: double (nullable = true)\n",
      "\n"
     ]
    }
   ],
   "source": [
    "df.printSchema()"
   ]
  },
  {
   "cell_type": "code",
   "execution_count": 6,
   "id": "2ebad022-49df-41c6-abf6-a26a71e521a1",
   "metadata": {},
   "outputs": [
    {
     "name": "stderr",
     "output_type": "stream",
     "text": [
      "                                                                                \r"
     ]
    },
    {
     "data": {
      "text/plain": [
       "Row(longitude=-114.31, latitude=34.19, housing_median_age=15.0, total_rooms=5612.0, total_bedrooms=1283.0, population=1015.0, households=472.0, median_income=1.4936, median_house_value=66900.0)"
      ]
     },
     "execution_count": 6,
     "metadata": {},
     "output_type": "execute_result"
    }
   ],
   "source": [
    "df.head() # grabs the first row of your data"
   ]
  },
  {
   "cell_type": "code",
   "execution_count": 7,
   "id": "3a9712b3-407b-4283-a7dd-25c87d67d7d5",
   "metadata": {},
   "outputs": [
    {
     "data": {
      "text/plain": [
       "pyspark.sql.types.Row"
      ]
     },
     "execution_count": 7,
     "metadata": {},
     "output_type": "execute_result"
    }
   ],
   "source": [
    "type(df.head())"
   ]
  },
  {
   "cell_type": "code",
   "execution_count": 8,
   "id": "764f1e92-1398-4320-afda-8eb745631aa4",
   "metadata": {},
   "outputs": [
    {
     "data": {
      "text/plain": [
       "[Row(longitude=-114.31, latitude=34.19, housing_median_age=15.0, total_rooms=5612.0, total_bedrooms=1283.0, population=1015.0, households=472.0, median_income=1.4936, median_house_value=66900.0),\n",
       " Row(longitude=-114.47, latitude=34.4, housing_median_age=19.0, total_rooms=7650.0, total_bedrooms=1901.0, population=1129.0, households=463.0, median_income=1.82, median_house_value=80100.0),\n",
       " Row(longitude=-114.56, latitude=33.69, housing_median_age=17.0, total_rooms=720.0, total_bedrooms=174.0, population=333.0, households=117.0, median_income=1.6509, median_house_value=85700.0),\n",
       " Row(longitude=-114.57, latitude=33.64, housing_median_age=14.0, total_rooms=1501.0, total_bedrooms=337.0, population=515.0, households=226.0, median_income=3.1917, median_house_value=73400.0),\n",
       " Row(longitude=-114.57, latitude=33.57, housing_median_age=20.0, total_rooms=1454.0, total_bedrooms=326.0, population=624.0, households=262.0, median_income=1.925, median_house_value=65500.0)]"
      ]
     },
     "execution_count": 8,
     "metadata": {},
     "output_type": "execute_result"
    }
   ],
   "source": [
    "df.take(5)"
   ]
  },
  {
   "cell_type": "code",
   "execution_count": 9,
   "id": "a168d6ba-3019-4dac-8e1d-7948be809dfc",
   "metadata": {},
   "outputs": [
    {
     "data": {
      "text/plain": [
       "[Row(longitude=-114.31, latitude=34.19, housing_median_age=15.0, total_rooms=5612.0, total_bedrooms=1283.0, population=1015.0, households=472.0, median_income=1.4936, median_house_value=66900.0),\n",
       " Row(longitude=-114.47, latitude=34.4, housing_median_age=19.0, total_rooms=7650.0, total_bedrooms=1901.0, population=1129.0, households=463.0, median_income=1.82, median_house_value=80100.0),\n",
       " Row(longitude=-114.56, latitude=33.69, housing_median_age=17.0, total_rooms=720.0, total_bedrooms=174.0, population=333.0, households=117.0, median_income=1.6509, median_house_value=85700.0),\n",
       " Row(longitude=-114.57, latitude=33.64, housing_median_age=14.0, total_rooms=1501.0, total_bedrooms=337.0, population=515.0, households=226.0, median_income=3.1917, median_house_value=73400.0),\n",
       " Row(longitude=-114.57, latitude=33.57, housing_median_age=20.0, total_rooms=1454.0, total_bedrooms=326.0, population=624.0, households=262.0, median_income=1.925, median_house_value=65500.0)]"
      ]
     },
     "execution_count": 9,
     "metadata": {},
     "output_type": "execute_result"
    }
   ],
   "source": [
    "df.limit(5).collect()"
   ]
  },
  {
   "cell_type": "code",
   "execution_count": 10,
   "id": "9fa2b328-0668-4f14-8037-e95c3595eb39",
   "metadata": {},
   "outputs": [
    {
     "name": "stdout",
     "output_type": "stream",
     "text": [
      "+---------+--------+------------------+-----------+--------------+----------+----------+-------------+------------------+\n",
      "|longitude|latitude|housing_median_age|total_rooms|total_bedrooms|population|households|median_income|median_house_value|\n",
      "+---------+--------+------------------+-----------+--------------+----------+----------+-------------+------------------+\n",
      "|  -114.31|   34.19|              15.0|     5612.0|        1283.0|    1015.0|     472.0|       1.4936|           66900.0|\n",
      "|  -114.47|    34.4|              19.0|     7650.0|        1901.0|    1129.0|     463.0|         1.82|           80100.0|\n",
      "|  -114.56|   33.69|              17.0|      720.0|         174.0|     333.0|     117.0|       1.6509|           85700.0|\n",
      "|  -114.57|   33.64|              14.0|     1501.0|         337.0|     515.0|     226.0|       3.1917|           73400.0|\n",
      "|  -114.57|   33.57|              20.0|     1454.0|         326.0|     624.0|     262.0|        1.925|           65500.0|\n",
      "|  -114.58|   33.63|              29.0|     1387.0|         236.0|     671.0|     239.0|       3.3438|           74000.0|\n",
      "|  -114.58|   33.61|              25.0|     2907.0|         680.0|    1841.0|     633.0|       2.6768|           82400.0|\n",
      "|  -114.59|   34.83|              41.0|      812.0|         168.0|     375.0|     158.0|       1.7083|           48500.0|\n",
      "|  -114.59|   33.61|              34.0|     4789.0|        1175.0|    3134.0|    1056.0|       2.1782|           58400.0|\n",
      "|   -114.6|   34.83|              46.0|     1497.0|         309.0|     787.0|     271.0|       2.1908|           48100.0|\n",
      "+---------+--------+------------------+-----------+--------------+----------+----------+-------------+------------------+\n",
      "only showing top 10 rows\n",
      "\n"
     ]
    }
   ],
   "source": [
    "df.show(10)"
   ]
  },
  {
   "cell_type": "code",
   "execution_count": 11,
   "id": "8c5ee600-0932-4829-bd22-b0b08d04620c",
   "metadata": {},
   "outputs": [
    {
     "name": "stderr",
     "output_type": "stream",
     "text": [
      "                                                                                \r"
     ]
    },
    {
     "name": "stdout",
     "output_type": "stream",
     "text": [
      "+-------+-------------------+------------------+------------------+-----------------+-----------------+------------------+-----------------+------------------+------------------+\n",
      "|summary|          longitude|          latitude|housing_median_age|      total_rooms|   total_bedrooms|        population|       households|     median_income|median_house_value|\n",
      "+-------+-------------------+------------------+------------------+-----------------+-----------------+------------------+-----------------+------------------+------------------+\n",
      "|  count|              17000|             17000|             17000|            17000|            17000|             17000|            17000|             17000|             17000|\n",
      "|   mean|-119.56210823529375|  35.6252247058827| 28.58935294117647|2643.664411764706|539.4108235294118|1429.5739411764705|501.2219411764706| 3.883578100000021|207300.91235294117|\n",
      "| stddev| 2.0051664084260357|2.1373397946570867|12.586936981660406|2179.947071452777|421.4994515798648| 1147.852959159527|384.5208408559016|1.9081565183791036|115983.76438720895|\n",
      "|    min|            -124.35|             32.54|               1.0|              2.0|              1.0|               3.0|              1.0|            0.4999|           14999.0|\n",
      "|    max|            -114.31|             41.95|              52.0|          37937.0|           6445.0|           35682.0|           6082.0|           15.0001|          500001.0|\n",
      "+-------+-------------------+------------------+------------------+-----------------+-----------------+------------------+-----------------+------------------+------------------+\n",
      "\n"
     ]
    }
   ],
   "source": [
    "df.describe().show()"
   ]
  },
  {
   "cell_type": "code",
   "execution_count": 12,
   "id": "0ebc225d-6ad4-40bb-b017-404b93710639",
   "metadata": {},
   "outputs": [
    {
     "name": "stdout",
     "output_type": "stream",
     "text": [
      "+----------+\n",
      "|population|\n",
      "+----------+\n",
      "|    1015.0|\n",
      "|    1129.0|\n",
      "|     333.0|\n",
      "|     515.0|\n",
      "|     624.0|\n",
      "+----------+\n",
      "only showing top 5 rows\n",
      "\n"
     ]
    }
   ],
   "source": [
    "df.select('population').show(5)# selecting only one column"
   ]
  },
  {
   "cell_type": "code",
   "execution_count": 13,
   "id": "53cf30f8-f10c-4d06-a231-fce9b4aad25f",
   "metadata": {},
   "outputs": [
    {
     "name": "stdout",
     "output_type": "stream",
     "text": [
      "+----------+----------+\n",
      "|population|households|\n",
      "+----------+----------+\n",
      "|    1015.0|     472.0|\n",
      "|    1129.0|     463.0|\n",
      "|     333.0|     117.0|\n",
      "|     515.0|     226.0|\n",
      "|     624.0|     262.0|\n",
      "|     671.0|     239.0|\n",
      "|    1841.0|     633.0|\n",
      "|     375.0|     158.0|\n",
      "|    3134.0|    1056.0|\n",
      "|     787.0|     271.0|\n",
      "|    2434.0|     824.0|\n",
      "|    1182.0|     437.0|\n",
      "|     580.0|     211.0|\n",
      "|    1346.0|     479.0|\n",
      "|     949.0|     300.0|\n",
      "|    1005.0|     401.0|\n",
      "|     666.0|     256.0|\n",
      "|      64.0|      27.0|\n",
      "|     775.0|     320.0|\n",
      "|      29.0|      15.0|\n",
      "+----------+----------+\n",
      "only showing top 20 rows\n",
      "\n"
     ]
    }
   ],
   "source": [
    "df.select('population','households').show() # selecting multiple columns"
   ]
  },
  {
   "cell_type": "code",
   "execution_count": 14,
   "id": "596d9f5c-7ca3-4d3c-92ff-e75513b95b88",
   "metadata": {},
   "outputs": [
    {
     "name": "stdout",
     "output_type": "stream",
     "text": [
      "+-------+------------------+\n",
      "|summary|     median_income|\n",
      "+-------+------------------+\n",
      "|  count|             17000|\n",
      "|   mean| 3.883578100000021|\n",
      "| stddev|1.9081565183791036|\n",
      "|    min|            0.4999|\n",
      "|    max|           15.0001|\n",
      "+-------+------------------+\n",
      "\n"
     ]
    }
   ],
   "source": [
    "summary = df.select('median_income').describe()\n",
    "summary.show()"
   ]
  },
  {
   "cell_type": "code",
   "execution_count": 15,
   "id": "a83b19f5-e112-4925-a5f9-23d98f3a9cf9",
   "metadata": {},
   "outputs": [
    {
     "name": "stdout",
     "output_type": "stream",
     "text": [
      "+---------+--------+------------------+-----------+--------------+----------+----------+-------------+------------------+\n",
      "|longitude|latitude|housing_median_age|total_rooms|total_bedrooms|population|households|median_income|median_house_value|\n",
      "+---------+--------+------------------+-----------+--------------+----------+----------+-------------+------------------+\n",
      "|  -117.12|   33.52|               4.0|    30401.0|        4957.0|   13251.0|    4339.0|       4.5841|          212300.0|\n",
      "|  -117.42|   33.35|              14.0|    25135.0|        4819.0|   35682.0|    4769.0|       2.5729|          134400.0|\n",
      "|  -117.61|    34.1|               9.0|    18956.0|        4095.0|   10323.0|    3832.0|       3.6033|          132600.0|\n",
      "|  -117.74|   33.89|               4.0|    37937.0|        5471.0|   16122.0|    5189.0|       7.4947|          366300.0|\n",
      "|  -117.75|   34.01|               4.0|    22128.0|        3522.0|   10450.0|    3258.0|       6.1287|          289600.0|\n",
      "|  -117.78|   34.03|               8.0|    32054.0|        5290.0|   15507.0|    5050.0|       6.0191|          253900.0|\n",
      "|  -117.87|   34.04|               7.0|    27700.0|        4179.0|   15037.0|    4072.0|       6.6288|          339700.0|\n",
      "|  -117.88|   33.96|              16.0|    19059.0|        3079.0|   10988.0|    3061.0|       5.5469|          265200.0|\n",
      "|  -118.09|   34.68|               4.0|    23386.0|        4171.0|   10493.0|    3671.0|       4.0211|          144000.0|\n",
      "|   -118.1|   34.57|               7.0|    20377.0|        4335.0|   11973.0|    3933.0|       3.3086|          138100.0|\n",
      "|  -118.46|    34.4|              12.0|    25957.0|        4798.0|   10475.0|    4490.0|        4.542|          195300.0|\n",
      "|  -118.78|   34.16|               9.0|    30405.0|        4093.0|   12873.0|    3931.0|       8.0137|          399200.0|\n",
      "|   -118.9|   34.26|               5.0|    25187.0|        3521.0|   11956.0|    3478.0|       6.9712|          321300.0|\n",
      "|  -120.59|    34.7|              29.0|    17738.0|        3114.0|   12427.0|    2826.0|       2.7377|           28300.0|\n",
      "|   -121.4|   38.47|               4.0|    20982.0|        3392.0|   10329.0|    3086.0|       4.3658|          130600.0|\n",
      "|  -121.61|   36.69|              19.0|     9899.0|        2617.0|   11272.0|    2528.0|       2.0244|          118500.0|\n",
      "|  -121.68|   36.72|              12.0|    19234.0|        4492.0|   12153.0|    4372.0|       3.2652|          152800.0|\n",
      "|  -121.79|   36.64|              11.0|    32627.0|        6445.0|   28566.0|    6082.0|       2.3087|          118800.0|\n",
      "|  -121.92|   37.53|               7.0|    28258.0|        3864.0|   12203.0|    3701.0|       8.4045|          451100.0|\n",
      "+---------+--------+------------------+-----------+--------------+----------+----------+-------------+------------------+\n",
      "\n"
     ]
    },
    {
     "name": "stderr",
     "output_type": "stream",
     "text": [
      "                                                                                \r"
     ]
    }
   ],
   "source": [
    "df.filter(df.population >10000).show() # filter for population >= 10000"
   ]
  },
  {
   "cell_type": "code",
   "execution_count": 17,
   "id": "49ad3576-0a16-4788-be76-c5c2c64cb29d",
   "metadata": {},
   "outputs": [
    {
     "name": "stdout",
     "output_type": "stream",
     "text": [
      "+---------+--------+------------------+-----------+--------------+----------+----------+-------------+------------------+\n",
      "|longitude|latitude|housing_median_age|total_rooms|total_bedrooms|population|households|median_income|median_house_value|\n",
      "+---------+--------+------------------+-----------+--------------+----------+----------+-------------+------------------+\n",
      "|  -117.74|   33.89|               4.0|    37937.0|        5471.0|   16122.0|    5189.0|       7.4947|          366300.0|\n",
      "|  -117.78|   34.03|               8.0|    32054.0|        5290.0|   15507.0|    5050.0|       6.0191|          253900.0|\n",
      "|  -121.79|   36.64|              11.0|    32627.0|        6445.0|   28566.0|    6082.0|       2.3087|          118800.0|\n",
      "+---------+--------+------------------+-----------+--------------+----------+----------+-------------+------------------+\n",
      "\n"
     ]
    }
   ],
   "source": [
    "df.filter((df.population >10000)&(df.households >=5000)).show()"
   ]
  },
  {
   "cell_type": "code",
   "execution_count": 18,
   "id": "95dd9873-da8a-424d-822e-f1dc7ff18b7c",
   "metadata": {},
   "outputs": [],
   "source": [
    "import matplotlib.pyplot as plt\n",
    "import numpy as np\n",
    "import pandas as pd\n",
    "\n",
    "df_pd = df.toPandas() # converting to pandas dataframe"
   ]
  },
  {
   "cell_type": "code",
   "execution_count": 21,
   "id": "eea5165d-5c2b-4c04-b6b6-6d8009308e31",
   "metadata": {},
   "outputs": [
    {
     "data": {
      "text/plain": [
       "<matplotlib.legend.Legend at 0x7f715a0e75b0>"
      ]
     },
     "execution_count": 21,
     "metadata": {},
     "output_type": "execute_result"
    },
    {
     "data": {
      "image/png": "[encoded data removed]",
      "text/plain": [
       "<Figure size 1200x600 with 1 Axes>"
      ]
     },
     "metadata": {},
     "output_type": "display_data"
    }
   ],
   "source": [
    "fig = plt.figure(figsize=(12,6))\n",
    "plt.hist(df_pd['median_house_value'], bins=10, range = (15000, 500000))\n",
    "plt.title(\"Median House Value Distribution\")\n",
    "plt.ylabel(\"Frequency\")\n",
    "plt.xlabel(\"Median House Value\")\n",
    "plt.axvline(x = np.mean(df_pd[\"median_house_value\"]), color = 'r', label = \"Mean\")\n",
    "plt.axvline(x = np.median(df_pd[\"median_house_value\"]), color = 'y', label = \"Median\")\n",
    "plt.legend()"
   ]
  },
  {
   "cell_type": "code",
   "execution_count": 22,
   "id": "9acaaa56-18c1-44e2-82ae-7ae1b890fa00",
   "metadata": {},
   "outputs": [
    {
     "data": {
      "text/plain": [
       "([], [])"
      ]
     },
     "execution_count": 22,
     "metadata": {},
     "output_type": "execute_result"
    },
    {
     "data": {
      "image/png": "[encoded data removed]",
      "text/plain": [
       "<Figure size 1000x800 with 1 Axes>"
      ]
     },
     "metadata": {},
     "output_type": "display_data"
    }
   ],
   "source": [
    "# boxplt\n",
    "\n",
    "fig2 = plt.figure(figsize= (10,8))\n",
    "plt.boxplot(df_pd[\"housing_median_age\"],widths =1)\n",
    "plt.title(\"Hosing Median Age Boxplot\")\n",
    "plt.ylabel(\"Housing Median Age\")\n",
    "plt.xticks([])"
   ]
  },
  {
   "cell_type": "code",
   "execution_count": 23,
   "id": "87006a61-e249-4271-aab0-9d758e7006e7",
   "metadata": {},
   "outputs": [
    {
     "data": {
      "text/plain": [
       "1725"
      ]
     },
     "execution_count": 23,
     "metadata": {},
     "output_type": "execute_result"
    }
   ],
   "source": [
    "# take approx 10% random sample\n",
    "sample_df = df.sample(withReplacement = False, fraction = 0.1)\n",
    "sample_df.count()"
   ]
  },
  {
   "cell_type": "code",
   "execution_count": 24,
   "id": "f37e04c3-4e2b-4340-9e54-a308902e6228",
   "metadata": {},
   "outputs": [],
   "source": [
    "average_house_value = df.filter(df['housing_median_age']>20).agg({\"median_house_value\":\"avg\"}).collect()[0][0]"
   ]
  },
  {
   "cell_type": "code",
   "execution_count": 25,
   "id": "eb7fb752-4173-4b70-998c-e623ccf09f1f",
   "metadata": {},
   "outputs": [
    {
     "data": {
      "text/plain": [
       "213293.52743618013"
      ]
     },
     "execution_count": 25,
     "metadata": {},
     "output_type": "execute_result"
    }
   ],
   "source": [
    "average_house_value"
   ]
  },
  {
   "cell_type": "code",
   "execution_count": 26,
   "id": "51fbef7e-1da4-4c23-881f-ee66b8c4a7a6",
   "metadata": {},
   "outputs": [
    {
     "data": {
      "text/plain": [
       "[Row(avg(median_house_value)=213293.52743618013)]"
      ]
     },
     "execution_count": 26,
     "metadata": {},
     "output_type": "execute_result"
    }
   ],
   "source": [
    "df.filter(df['housing_median_age']>20).agg({\"median_house_value\":\"avg\"}).collect()"
   ]
  },
  {
   "cell_type": "code",
   "execution_count": null,
   "id": "c1b77e47-f2eb-4ed1-80fb-4a8d2feaaa8a",
   "metadata": {},
   "outputs": [],
   "source": []
  }
 ],
 "metadata": {
  "kernelspec": {
   "display_name": "Python 3 (ipykernel)",
   "language": "python",
   "name": "python3"
  },
  "language_info": {
   "codemirror_mode": {
    "name": "ipython",
    "version": 3
   },
   "file_extension": ".py",
   "mimetype": "text/x-python",
   "name": "python",
   "nbconvert_exporter": "python",
   "pygments_lexer": "ipython3",
   "version": "3.11.4"
  }
 },
 "nbformat": 4,
 "nbformat_minor": 5
}
